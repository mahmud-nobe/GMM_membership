version https://git-lfs.github.com/spec/v1
oid sha256:8ab1cd196c373b5df44b680d381058ec04e61802e8759ea186e34e4de3fe6448
size 1944848
